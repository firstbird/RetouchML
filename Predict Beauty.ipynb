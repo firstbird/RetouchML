{
 "cells": [
  {
   "cell_type": "code",
   "execution_count": 386,
   "metadata": {},
   "outputs": [],
   "source": [
    "import tensorflow as tf\n",
    "import keras\n",
    "import numpy as np\n",
    "from tqdm import tqdm\n",
    "\n",
    "from keras.models import Sequential\n",
    "from keras.layers import Dense, Dropout, Activation, Flatten\n",
    "from keras.layers import Convolution2D, MaxPooling2D\n",
    "from keras.utils import np_utils\n",
    "from sklearn.model_selection import train_test_split\n",
    "from sklearn.preprocessing import StandardScaler\n",
    "from keras.preprocessing.image import ImageDataGenerator\n",
    "from keras.optimizers import SGD, Adam\n",
    "\n",
    "import glob, os\n",
    "import PIL.Image\n",
    "\n",
    "import csv\n",
    "import pandas as pd\n",
    "import seaborn as sns"
   ]
  },
  {
   "cell_type": "code",
   "execution_count": 387,
   "metadata": {},
   "outputs": [
    {
     "name": "stderr",
     "output_type": "stream",
     "text": [
      "330001it [00:00, 770805.43it/s]\n"
     ]
    }
   ],
   "source": [
    "all_labels = {}\n",
    "with open(\"/Users/leon/Downloads/SCUT-FBP5500_v2/All_Ratings.csv\") as csv_file:\n",
    "    csv_reader = csv.reader(csv_file, delimiter=';')\n",
    "    line_count = 0\n",
    "    for row in tqdm(csv_reader):\n",
    "        if line_count == 0:\n",
    "            line_count += 1\n",
    "        else:\n",
    "            line_count += 1\n",
    "            all_labels[row[1].split(\".\")[0]] = row[2]"
   ]
  },
  {
   "cell_type": "code",
   "execution_count": 388,
   "metadata": {},
   "outputs": [],
   "source": [
    "def to_array(i):\n",
    "    out = np.zeros(5)\n",
    "    out[i] = 1\n",
    "    return (i - 2) "
   ]
  },
  {
   "cell_type": "code",
   "execution_count": 389,
   "metadata": {},
   "outputs": [
    {
     "name": "stderr",
     "output_type": "stream",
     "text": [
      "100%|██████████| 1982/1982 [00:04<00:00, 435.60it/s]\n"
     ]
    }
   ],
   "source": [
    "path = \"/Users/leon/Downloads/SCUT-FBP5500_v2/Scaled/\"\n",
    "valid_images = \".png\"\n",
    "images = []\n",
    "labels = []\n",
    "for f in tqdm(os.listdir(path)):\n",
    "    if f.endswith(valid_images):\n",
    "        img = PIL.Image.open(path + f).convert('L')\n",
    "        images.append(np.array(img))\n",
    "        labels.append(to_array(int(all_labels[f[:-7]]) - 1))\n",
    "        \n",
    "images = np.array(images).reshape(-1,1,128,128)\n",
    "labels = np.array(labels)"
   ]
  },
  {
   "cell_type": "code",
   "execution_count": 390,
   "metadata": {},
   "outputs": [
    {
     "name": "stdout",
     "output_type": "stream",
     "text": [
      "[ 0  0  0 ...  2 -1  0]\n"
     ]
    }
   ],
   "source": [
    "print(labels)"
   ]
  },
  {
   "cell_type": "code",
   "execution_count": 391,
   "metadata": {},
   "outputs": [],
   "source": [
    "(trainX, testX, trainY, testY) = train_test_split(images, labels, test_size=0.25, random_state=42)"
   ]
  },
  {
   "cell_type": "code",
   "execution_count": 392,
   "metadata": {},
   "outputs": [],
   "source": [
    "model = Sequential()\n",
    "model.add(keras.layers.Conv2D(16, [3,3], activation='relu', padding='same'))\n",
    "model.add(keras.layers.Conv2D(32, [3,3], activation='relu', padding='same'))\n",
    "model.add(keras.layers.Conv2D(64, [3,3], activation='relu', padding='same'))\n",
    "\n",
    "model.add(keras.layers.BatchNormalization())\n",
    "model.add(keras.layers.Dropout(0.15))\n",
    "model.add(keras.layers.Activation('relu'))\n",
    "model.add(keras.layers.Flatten())\n",
    "model.add(keras.layers.Dense(50))\n",
    "model.add(keras.layers.Dense(1, activation=tf.nn.sigmoid))\n",
    "#model.add(keras.layers.Activation('sigmoid'))"
   ]
  },
  {
   "cell_type": "code",
   "execution_count": 393,
   "metadata": {},
   "outputs": [],
   "source": [
    "opt = keras.optimizers.RMSprop(0.001)\n",
    "model.compile(loss=\"mse\", optimizer=opt, metrics=['mae', 'mse'])"
   ]
  },
  {
   "cell_type": "code",
   "execution_count": 394,
   "metadata": {},
   "outputs": [
    {
     "ename": "ValueError",
     "evalue": "This model has not yet been built. Build the model first by calling build() or calling fit() with some data. Or specify input_shape or batch_input_shape in the first layer for automatic build. ",
     "output_type": "error",
     "traceback": [
      "\u001b[0;31m---------------------------------------------------------------------------\u001b[0m",
      "\u001b[0;31mValueError\u001b[0m                                Traceback (most recent call last)",
      "\u001b[0;32m<ipython-input-394-5f15418b3570>\u001b[0m in \u001b[0;36m<module>\u001b[0;34m\u001b[0m\n\u001b[0;32m----> 1\u001b[0;31m \u001b[0mmodel\u001b[0m\u001b[0;34m.\u001b[0m\u001b[0msummary\u001b[0m\u001b[0;34m(\u001b[0m\u001b[0;34m)\u001b[0m\u001b[0;34m\u001b[0m\u001b[0;34m\u001b[0m\u001b[0m\n\u001b[0m",
      "\u001b[0;32m~/opt/anaconda3/lib/python3.7/site-packages/keras/engine/network.py\u001b[0m in \u001b[0;36msummary\u001b[0;34m(self, line_length, positions, print_fn)\u001b[0m\n\u001b[1;32m   1318\u001b[0m         \u001b[0;32mif\u001b[0m \u001b[0;32mnot\u001b[0m \u001b[0mself\u001b[0m\u001b[0;34m.\u001b[0m\u001b[0mbuilt\u001b[0m\u001b[0;34m:\u001b[0m\u001b[0;34m\u001b[0m\u001b[0;34m\u001b[0m\u001b[0m\n\u001b[1;32m   1319\u001b[0m             raise ValueError(\n\u001b[0;32m-> 1320\u001b[0;31m                 \u001b[0;34m'This model has not yet been built. '\u001b[0m\u001b[0;34m\u001b[0m\u001b[0;34m\u001b[0m\u001b[0m\n\u001b[0m\u001b[1;32m   1321\u001b[0m                 \u001b[0;34m'Build the model first by calling build() '\u001b[0m\u001b[0;34m\u001b[0m\u001b[0;34m\u001b[0m\u001b[0m\n\u001b[1;32m   1322\u001b[0m                 \u001b[0;34m'or calling fit() with some data. '\u001b[0m\u001b[0;34m\u001b[0m\u001b[0;34m\u001b[0m\u001b[0m\n",
      "\u001b[0;31mValueError\u001b[0m: This model has not yet been built. Build the model first by calling build() or calling fit() with some data. Or specify input_shape or batch_input_shape in the first layer for automatic build. "
     ]
    }
   ],
   "source": [
    "model.summary()"
   ]
  },
  {
   "cell_type": "code",
   "execution_count": null,
   "metadata": {},
   "outputs": [],
   "source": [
    "example_batch = trainX[:10]\n",
    "example_result = model.predict(example_batch)\n",
    "print(example_result)"
   ]
  },
  {
   "cell_type": "code",
   "execution_count": null,
   "metadata": {},
   "outputs": [
    {
     "name": "stdout",
     "output_type": "stream",
     "text": [
      "Train on 1485 samples, validate on 496 samples\n",
      "Epoch 1/1000\n",
      "1485/1485 [==============================] - 2s 1ms/step - loss: 0.7165 - mae: 0.5601 - mse: 0.7165 - val_loss: 0.8195 - val_mae: 0.6156 - val_mse: 0.8195\n",
      "Epoch 2/1000\n",
      "1485/1485 [==============================] - 2s 1ms/step - loss: 0.7113 - mae: 0.5568 - mse: 0.7113 - val_loss: 0.7376 - val_mae: 0.5898 - val_mse: 0.7376\n",
      "Epoch 3/1000\n",
      "1485/1485 [==============================] - 2s 1ms/step - loss: 0.6779 - mae: 0.5385 - mse: 0.6779 - val_loss: 0.9948 - val_mae: 0.6898 - val_mse: 0.9948\n",
      "Epoch 4/1000\n",
      "1485/1485 [==============================] - 2s 1ms/step - loss: 0.6600 - mae: 0.5279 - mse: 0.6600 - val_loss: 0.7566 - val_mae: 0.5850 - val_mse: 0.7566\n",
      "Epoch 5/1000\n",
      "1485/1485 [==============================] - 2s 1ms/step - loss: 0.7017 - mae: 0.5611 - mse: 0.7017 - val_loss: 0.9810 - val_mae: 0.6904 - val_mse: 0.9810\n",
      "Epoch 6/1000\n",
      "1485/1485 [==============================] - 2s 1ms/step - loss: 0.6464 - mae: 0.5219 - mse: 0.6464 - val_loss: 0.7849 - val_mae: 0.6017 - val_mse: 0.7849\n",
      "Epoch 7/1000\n",
      "1485/1485 [==============================] - 2s 1ms/step - loss: 0.6769 - mae: 0.5378 - mse: 0.6769 - val_loss: 0.8753 - val_mae: 0.6377 - val_mse: 0.8753\n",
      "Epoch 8/1000\n",
      "1485/1485 [==============================] - 2s 1ms/step - loss: 0.6464 - mae: 0.5277 - mse: 0.6464 - val_loss: 0.6848 - val_mae: 0.5581 - val_mse: 0.6848\n",
      "Epoch 9/1000\n",
      "1485/1485 [==============================] - 2s 1ms/step - loss: 0.6350 - mae: 0.5248 - mse: 0.6350 - val_loss: 0.7576 - val_mae: 0.5916 - val_mse: 0.7576\n",
      "Epoch 10/1000\n",
      "1485/1485 [==============================] - 2s 1ms/step - loss: 0.6340 - mae: 0.5191 - mse: 0.6340 - val_loss: 0.7524 - val_mae: 0.5807 - val_mse: 0.7524\n",
      "Epoch 11/1000\n",
      "1485/1485 [==============================] - 2s 1ms/step - loss: 0.6271 - mae: 0.5145 - mse: 0.6271 - val_loss: 0.7182 - val_mae: 0.5714 - val_mse: 0.7182\n",
      "Epoch 12/1000\n",
      "1485/1485 [==============================] - 2s 2ms/step - loss: 0.6225 - mae: 0.5143 - mse: 0.6225 - val_loss: 0.9816 - val_mae: 0.6898 - val_mse: 0.9816\n",
      "Epoch 13/1000\n",
      "1485/1485 [==============================] - 2s 1ms/step - loss: 0.6185 - mae: 0.5141 - mse: 0.6185 - val_loss: 0.9015 - val_mae: 0.6487 - val_mse: 0.9015\n",
      "Epoch 14/1000\n",
      "1485/1485 [==============================] - 2s 1ms/step - loss: 0.6005 - mae: 0.5096 - mse: 0.6005 - val_loss: 0.8769 - val_mae: 0.6412 - val_mse: 0.8769\n",
      "Epoch 15/1000\n",
      "1485/1485 [==============================] - 2s 1ms/step - loss: 0.6133 - mae: 0.5116 - mse: 0.6133 - val_loss: 0.6897 - val_mae: 0.5625 - val_mse: 0.6897\n",
      "Epoch 16/1000\n",
      "1485/1485 [==============================] - 2s 2ms/step - loss: 0.6050 - mae: 0.5107 - mse: 0.6050 - val_loss: 0.7438 - val_mae: 0.6008 - val_mse: 0.7438\n",
      "Epoch 17/1000\n",
      "1485/1485 [==============================] - 2s 1ms/step - loss: 0.5938 - mae: 0.5049 - mse: 0.5938 - val_loss: 0.7011 - val_mae: 0.5844 - val_mse: 0.7011\n",
      "Epoch 18/1000\n",
      "1485/1485 [==============================] - 2s 1ms/step - loss: 0.5990 - mae: 0.5030 - mse: 0.5990 - val_loss: 0.8420 - val_mae: 0.6244 - val_mse: 0.8420\n",
      "Epoch 19/1000\n",
      "1485/1485 [==============================] - 2s 2ms/step - loss: 0.5937 - mae: 0.5039 - mse: 0.5937 - val_loss: 0.7196 - val_mae: 0.5918 - val_mse: 0.7196\n",
      "Epoch 20/1000\n",
      "1485/1485 [==============================] - 2s 1ms/step - loss: 0.5972 - mae: 0.5069 - mse: 0.5972 - val_loss: 0.7949 - val_mae: 0.6404 - val_mse: 0.7949\n",
      "Epoch 21/1000\n",
      "1485/1485 [==============================] - 2s 1ms/step - loss: 0.5823 - mae: 0.4940 - mse: 0.5823 - val_loss: 0.7437 - val_mae: 0.5763 - val_mse: 0.7437\n",
      "Epoch 22/1000\n",
      "1485/1485 [==============================] - 2s 1ms/step - loss: 0.5785 - mae: 0.4982 - mse: 0.5785 - val_loss: 0.6948 - val_mae: 0.5630 - val_mse: 0.6948\n",
      "Epoch 23/1000\n",
      "1485/1485 [==============================] - 2s 1ms/step - loss: 0.5756 - mae: 0.4902 - mse: 0.5756 - val_loss: 0.6698 - val_mae: 0.5533 - val_mse: 0.6698\n",
      "Epoch 24/1000\n",
      "1485/1485 [==============================] - 2s 1ms/step - loss: 0.5734 - mae: 0.4910 - mse: 0.5734 - val_loss: 0.7035 - val_mae: 0.5693 - val_mse: 0.7035\n",
      "Epoch 25/1000\n",
      "1485/1485 [==============================] - 2s 1ms/step - loss: 0.5798 - mae: 0.4947 - mse: 0.5798 - val_loss: 0.6999 - val_mae: 0.5791 - val_mse: 0.6999\n",
      "Epoch 26/1000\n",
      "1485/1485 [==============================] - 2s 1ms/step - loss: 0.5694 - mae: 0.4837 - mse: 0.5694 - val_loss: 0.7589 - val_mae: 0.5919 - val_mse: 0.7589\n",
      "Epoch 27/1000\n",
      "1485/1485 [==============================] - 2s 2ms/step - loss: 0.5617 - mae: 0.4813 - mse: 0.5617 - val_loss: 0.6395 - val_mae: 0.5409 - val_mse: 0.6395\n",
      "Epoch 28/1000\n",
      "1485/1485 [==============================] - 2s 2ms/step - loss: 0.5709 - mae: 0.4859 - mse: 0.5709 - val_loss: 0.7099 - val_mae: 0.5719 - val_mse: 0.7099\n",
      "Epoch 29/1000\n",
      "1485/1485 [==============================] - 2s 2ms/step - loss: 0.5722 - mae: 0.4879 - mse: 0.5722 - val_loss: 0.7279 - val_mae: 0.5750 - val_mse: 0.7279\n",
      "Epoch 30/1000\n",
      "1485/1485 [==============================] - 2s 2ms/step - loss: 0.5624 - mae: 0.4852 - mse: 0.5624 - val_loss: 0.7123 - val_mae: 0.5716 - val_mse: 0.7123\n",
      "Epoch 31/1000\n",
      "1485/1485 [==============================] - 2s 2ms/step - loss: 0.5517 - mae: 0.4734 - mse: 0.5517 - val_loss: 0.6624 - val_mae: 0.5573 - val_mse: 0.6624\n",
      "Epoch 32/1000\n",
      "1485/1485 [==============================] - 2s 1ms/step - loss: 0.5593 - mae: 0.4777 - mse: 0.5593 - val_loss: 0.7074 - val_mae: 0.5682 - val_mse: 0.7074\n",
      "Epoch 33/1000\n",
      "1485/1485 [==============================] - 2s 2ms/step - loss: 0.5474 - mae: 0.4673 - mse: 0.5474 - val_loss: 0.6434 - val_mae: 0.5446 - val_mse: 0.6434\n",
      "Epoch 34/1000\n",
      "1485/1485 [==============================] - 2s 2ms/step - loss: 0.5400 - mae: 0.4641 - mse: 0.5400 - val_loss: 0.7902 - val_mae: 0.6432 - val_mse: 0.7902\n",
      "Epoch 35/1000\n",
      "1485/1485 [==============================] - 3s 2ms/step - loss: 0.5531 - mae: 0.4746 - mse: 0.5531 - val_loss: 0.7370 - val_mae: 0.5788 - val_mse: 0.7370\n",
      "Epoch 36/1000\n",
      "1485/1485 [==============================] - 3s 2ms/step - loss: 0.5434 - mae: 0.4651 - mse: 0.5434 - val_loss: 0.7257 - val_mae: 0.6061 - val_mse: 0.7257\n",
      "Epoch 37/1000\n",
      "1485/1485 [==============================] - 3s 2ms/step - loss: 0.5437 - mae: 0.4745 - mse: 0.5437 - val_loss: 0.7440 - val_mae: 0.5757 - val_mse: 0.7440\n",
      "Epoch 38/1000\n",
      "1485/1485 [==============================] - 3s 2ms/step - loss: 0.5424 - mae: 0.4678 - mse: 0.5424 - val_loss: 0.6518 - val_mae: 0.5586 - val_mse: 0.6518\n",
      "Epoch 39/1000\n",
      "1485/1485 [==============================] - 3s 2ms/step - loss: 0.5431 - mae: 0.4644 - mse: 0.5431 - val_loss: 0.7234 - val_mae: 0.5714 - val_mse: 0.7234\n",
      "Epoch 40/1000\n",
      "1485/1485 [==============================] - 3s 2ms/step - loss: 0.5330 - mae: 0.4575 - mse: 0.5330 - val_loss: 0.7151 - val_mae: 0.5739 - val_mse: 0.7151\n",
      "Epoch 41/1000\n",
      "1485/1485 [==============================] - 3s 2ms/step - loss: 0.5431 - mae: 0.4686 - mse: 0.5431 - val_loss: 0.6715 - val_mae: 0.5527 - val_mse: 0.6715\n",
      "Epoch 42/1000\n",
      "1485/1485 [==============================] - 3s 2ms/step - loss: 0.5441 - mae: 0.4699 - mse: 0.5441 - val_loss: 0.7923 - val_mae: 0.6000 - val_mse: 0.7923\n",
      "Epoch 43/1000\n",
      "1485/1485 [==============================] - 3s 2ms/step - loss: 0.5401 - mae: 0.4634 - mse: 0.5401 - val_loss: 0.6620 - val_mae: 0.5539 - val_mse: 0.6620\n",
      "Epoch 44/1000\n",
      "1485/1485 [==============================] - 3s 2ms/step - loss: 0.5313 - mae: 0.4603 - mse: 0.5313 - val_loss: 0.7565 - val_mae: 0.5883 - val_mse: 0.7565\n",
      "Epoch 45/1000\n",
      "1485/1485 [==============================] - 3s 2ms/step - loss: 0.5253 - mae: 0.4581 - mse: 0.5253 - val_loss: 0.6548 - val_mae: 0.5481 - val_mse: 0.6548\n",
      "Epoch 46/1000\n",
      "1485/1485 [==============================] - 3s 2ms/step - loss: 0.5288 - mae: 0.4590 - mse: 0.5288 - val_loss: 0.6378 - val_mae: 0.5457 - val_mse: 0.6378\n",
      "Epoch 47/1000\n",
      "1485/1485 [==============================] - 3s 2ms/step - loss: 0.5315 - mae: 0.4595 - mse: 0.5315 - val_loss: 0.7007 - val_mae: 0.5866 - val_mse: 0.7007\n",
      "Epoch 48/1000\n",
      "1485/1485 [==============================] - 3s 2ms/step - loss: 0.5295 - mae: 0.4581 - mse: 0.5295 - val_loss: 0.6569 - val_mae: 0.5381 - val_mse: 0.6569\n",
      "Epoch 49/1000\n",
      "1485/1485 [==============================] - 3s 2ms/step - loss: 0.5407 - mae: 0.4624 - mse: 0.5407 - val_loss: 0.7597 - val_mae: 0.5890 - val_mse: 0.7597\n",
      "Epoch 50/1000\n",
      "1485/1485 [==============================] - 3s 2ms/step - loss: 0.5334 - mae: 0.4603 - mse: 0.5334 - val_loss: 0.6916 - val_mae: 0.5640 - val_mse: 0.6916\n",
      "Epoch 51/1000\n",
      "1485/1485 [==============================] - 4s 3ms/step - loss: 0.5247 - mae: 0.4556 - mse: 0.5247 - val_loss: 0.6644 - val_mae: 0.5409 - val_mse: 0.6644\n",
      "Epoch 52/1000\n",
      "1485/1485 [==============================] - 4s 3ms/step - loss: 0.5182 - mae: 0.4489 - mse: 0.5182 - val_loss: 0.7473 - val_mae: 0.6090 - val_mse: 0.7473\n",
      "Epoch 53/1000\n",
      "1485/1485 [==============================] - 4s 3ms/step - loss: 0.5191 - mae: 0.4489 - mse: 0.5191 - val_loss: 0.6823 - val_mae: 0.5556 - val_mse: 0.6823\n",
      "Epoch 54/1000\n",
      "1485/1485 [==============================] - 4s 3ms/step - loss: 0.5465 - mae: 0.4651 - mse: 0.5465 - val_loss: 0.7527 - val_mae: 0.5895 - val_mse: 0.7527\n",
      "Epoch 55/1000\n",
      "1485/1485 [==============================] - 4s 3ms/step - loss: 0.5204 - mae: 0.4531 - mse: 0.5204 - val_loss: 0.6888 - val_mae: 0.5628 - val_mse: 0.6888\n",
      "Epoch 56/1000\n",
      "1485/1485 [==============================] - 5s 3ms/step - loss: 0.5173 - mae: 0.4499 - mse: 0.5173 - val_loss: 0.6445 - val_mae: 0.5282 - val_mse: 0.6445\n",
      "Epoch 57/1000\n",
      "1485/1485 [==============================] - 3s 2ms/step - loss: 0.5143 - mae: 0.4460 - mse: 0.5143 - val_loss: 0.6774 - val_mae: 0.5509 - val_mse: 0.67744468 - mse: 0.515\n",
      "Epoch 58/1000\n",
      "1485/1485 [==============================] - 3s 2ms/step - loss: 0.5179 - mae: 0.4508 - mse: 0.5179 - val_loss: 0.6303 - val_mae: 0.5350 - val_mse: 0.6303\n"
     ]
    }
   ],
   "source": [
    "# train the neural network\n",
    "H = model.fit(x=trainX, y=trainY, validation_data=(testX, testY), epochs=1000, batch_size=20)\n",
    "train_mse = model.evaluate(trainX, trainY, verbose=0)\n",
    "test_mse = model.evaluate(testX, testY, verbose=0)"
   ]
  },
  {
   "cell_type": "code",
   "execution_count": 396,
   "metadata": {},
   "outputs": [
    {
     "name": "stdout",
     "output_type": "stream",
     "text": [
      "1\n"
     ]
    },
    {
     "data": {
      "image/png": "[encoded data removed]",
      "text/plain": [
       "<PIL.Image.Image image mode=L size=128x128 at 0x7F9F79AA4CD0>"
      ]
     },
     "metadata": {},
     "output_type": "display_data"
    }
   ],
   "source": [
    "pred = all_labels[\"AF14\"]\n",
    "img = PIL.Image.open(path + \"AF14_01.png\").convert('L')\n",
    "print(pred)\n",
    "display(img)"
   ]
  },
  {
   "cell_type": "code",
   "execution_count": 397,
   "metadata": {},
   "outputs": [
    {
     "name": "stdout",
     "output_type": "stream",
     "text": [
      "[[0.0000000e+00]\n",
      " [9.9999923e-01]\n",
      " [0.0000000e+00]\n",
      " [0.0000000e+00]\n",
      " [2.3484230e-05]\n",
      " [9.8977417e-01]\n",
      " [9.9999988e-01]\n",
      " [0.0000000e+00]\n",
      " [0.0000000e+00]\n",
      " [0.0000000e+00]]\n"
     ]
    }
   ],
   "source": [
    "print(model.predict(example_batch))"
   ]
  },
  {
   "cell_type": "code",
   "execution_count": null,
   "metadata": {},
   "outputs": [],
   "source": []
  }
 ],
 "metadata": {
  "kernelspec": {
   "display_name": "Python 3",
   "language": "python",
   "name": "python3"
  },
  "language_info": {
   "codemirror_mode": {
    "name": "ipython",
    "version": 3
   },
   "file_extension": ".py",
   "mimetype": "text/x-python",
   "name": "python",
   "nbconvert_exporter": "python",
   "pygments_lexer": "ipython3",
   "version": "3.7.7"
  }
 },
 "nbformat": 4,
 "nbformat_minor": 4
}
