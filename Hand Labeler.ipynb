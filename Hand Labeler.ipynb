{
 "cells": [
  {
   "cell_type": "code",
   "execution_count": 8,
   "metadata": {},
   "outputs": [],
   "source": [
    "from IPython.display import Image, display\n",
    "import os\n",
    "import PIL\n",
    "from PIL import Image\n",
    "from IPython.display import clear_output\n",
    "import json\n",
    "import ntpath\n"
   ]
  },
  {
   "cell_type": "code",
   "execution_count": 32,
   "metadata": {},
   "outputs": [],
   "source": [
    "image_labels = {}"
   ]
  },
  {
   "cell_type": "code",
   "execution_count": 33,
   "metadata": {},
   "outputs": [],
   "source": [
    "rate = \"test\""
   ]
  },
  {
   "cell_type": "code",
   "execution_count": null,
   "metadata": {},
   "outputs": [],
   "source": [
    "path = \"/Users/leon/Google Drive/Data/Generated/Images/\"\n",
    "valid_images = (\".jpg\",\".png\")\n",
    "k = 0\n",
    "for f in os.listdir(path):\n",
    "    if f.endswith(valid_images):\n",
    "        img = PIL.Image.open(path + f)\n",
    "        display(img.resize((512,512), PIL.Image.LANCZOS))\n",
    "        \n",
    "        name = ntpath.basename(f).split('.')[0]\n",
    "        try:\n",
    "            x = image_labels[name]\n",
    "        except KeyError:\n",
    "            image_labels[name] = {}\n",
    "            \n",
    "        try:\n",
    "            x = image_labels[name][rate]\n",
    "        except KeyError:\n",
    "            image_labels[name][rate] = {}\n",
    "        \n",
    "        print(\"Number \" + str(k))\n",
    "        k = k+1\n",
    "        print(\"1: White, 2: Asian, 3: Black, 4: Other\")\n",
    "        rating =  str(input())\n",
    "        \n",
    "        \n",
    "        image_labels[name][rate] = rating\n",
    "        print(rating)\n",
    "        \n",
    "        clear_output(wait=True)"
   ]
  },
  {
   "cell_type": "code",
   "execution_count": 45,
   "metadata": {},
   "outputs": [
    {
     "name": "stdout",
     "output_type": "stream",
     "text": [
      "{'img_842': {'test': {}, 'race': {}}, 'img_856': {'test': {}, 'race': {}}, 'img_881': {'test': {}, 'race': {}}, 'img_659': {'test': {}, 'race': {}}, 'img_895': {'test': {}, 'race': {}}, 'img_665': {'test': {}, 'race': {}}, 'img_103': {'test': {}, 'race': {}}, 'img_117': {'test': {}, 'race': {}}, 'img_671': {'test': {}, 'race': {}}, 'img_498': {'test': {}, 'race': {}}, 'img_10': {'test': {}, 'race': {}}, 'img_38': {'test': {}, 'race': {}}, 'img_329': {'test': {}, 'race': {}}, 'img_301': {'test': {}, 'race': {}}, 'img_467': {'test': {}, 'race': {}}, 'img_473': {'test': {}, 'race': {}}, 'img_315': {'test': {}, 'race': {}}, 'img_249': {'test': {}, 'race': {}}, 'img_275': {'test': {}, 'race': {}}, 'img_513': {'test': {}, 'race': {}}, 'img_507': {'test': {}, 'race': {}}, 'img_261': {'test': {}, 'race': {}}, 'img_1': {'test': {}, 'race': {}}, 'img_936': {'test': {}, 'race': {}}, 'img_922': {'test': {}, 'race': {}}, 'img_739': {'test': {}, 'race': {}}, 'img_711': {'test': {}, 'race': {}}, 'img_705': {'test': {}, 'race': {}}, 'img_704': {'test': {}, 'race': {}}, 'img_710': {'test': {}, 'race': {}}, 'img_738': {'test': {}, 'race': {}}, 'img_923': {'test': {}, 'race': {}}, 'img_937': {'test': {}, 'race': {}}, 'img_506': {'test': {}, 'race': {}}, 'img_0': {'test': {}, 'race': {}}, 'img_260': {'test': {}, 'race': {}}, 'img_274': {'test': {}, 'race': {}}, 'img_512': {'test': {}, 'race': {}}, 'img_248': {'test': {}, 'race': {}}, 'img_472': {'test': {}, 'race': {}}, 'img_314': {'test': {}, 'race': {}}, 'img_300': {'test': {}, 'race': {}}, 'img_466': {'test': {}, 'race': {}}, 'img_328': {'test': {}, 'race': {}}, 'img_39': {'test': {}, 'race': {}}, 'img_11': {'test': {}, 'race': {}}, 'img_499': {'test': {}, 'race': {}}, 'img_116': {'test': {}, 'race': {}}, 'img_670': {'test': {}, 'race': {}}, 'img_664': {'test': {}, 'race': {}}, 'img_102': {'test': {}, 'race': {}}, 'img_894': {'test': {}, 'race': {}}, 'img_658': {'test': {}, 'race': {}}, 'img_880': {'test': {}, 'race': {}}, 'img_857': {'test': {}, 'race': {}}, 'img_843': {'test': {}, 'race': {}}, 'img_855': {'test': {}, 'race': {}}, 'img_699': {'test': {}, 'race': {}}, 'img_841': {'test': {}, 'race': {}}, 'img_869': {'test': {}, 'race': {}}, 'img_896': {'test': {}, 'race': {}}, 'img_128': {'test': {}, 'race': {}}, 'img_882': {'test': {}, 'race': {}}, 'img_672': {'test': {}, 'race': {}}, 'img_114': {'test': {}, 'race': {}}, 'img_100': {'test': {}, 'race': {}}, 'img_666': {'test': {}, 'race': {}}, 'img_13': {'test': {}, 'race': {}}, 'img_458': {'test': {}, 'race': {}}, 'img_316': {'test': {}, 'race': {}}, 'img_470': {'test': {}, 'race': {}}, 'img_464': {'test': {}, 'race': {}}, 'img_302': {'test': {}, 'race': {}}, 'img_289': {'test': {}, 'race': {}}, 'img_538': {'test': {}, 'race': {}}, 'img_262': {'test': {}, 'race': {}}, 'img_2': {'test': {}, 'race': {}}, 'img_504': {'test': {}, 'race': {}}, 'img_510': {'test': {}, 'race': {}}, 'img_276': {'test': {}, 'race': {}}, 'img_921': {'test': {}, 'race': {}}, 'img_935': {'test': {}, 'race': {}}, 'img_909': {'test': {}, 'race': {}}, 'img_706': {'test': {}, 'race': {}}, 'img_712': {'test': {}, 'race': {}}, 'img_713': {'test': {}, 'race': {}}, 'img_707': {'test': {}, 'race': {}}, 'img_908': {'test': {}, 'race': {}}, 'img_934': {'test': {}, 'race': {}}, 'img_920': {'test': {}, 'race': {}}, 'img_511': {'test': {}, 'race': {}}, 'img_277': {'test': {}, 'race': {}}, 'img_3': {'test': {}, 'race': {}}, 'img_263': {'test': {}, 'race': {}}, 'img_505': {'test': {}, 'race': {}}, 'img_539': {'test': {}, 'race': {}}, 'img_288': {'test': {}, 'race': {}}, 'img_465': {'test': {}, 'race': {}}, 'img_303': {'test': {}, 'race': {}}, 'img_317': {'test': {}, 'race': {}}, 'img_471': {'test': {}, 'race': {}}, 'img_459': {'test': {}, 'race': {}}, 'img_12': {'test': {}, 'race': {}}, 'img_101': {'test': {}, 'race': {}}, 'img_667': {'test': {}, 'race': {}}, 'img_673': {'test': {}, 'race': {}}, 'img_115': {'test': {}, 'race': {}}, 'img_883': {'test': {}, 'race': {}}, 'img_897': {'test': {}, 'race': {}}, 'img_129': {'test': {}, 'race': {}}, 'img_868': {'test': {}, 'race': {}}, 'img_840': {'test': {}, 'race': {}}, 'img_698': {'test': {}, 'race': {}}, 'img_854': {'test': {}, 'race': {}}, 'img_878': {'test': {}, 'race': {}}, 'img_688': {'test': {}, 'race': {}}, 'img_850': {'test': {}, 'race': {}}, 'img_844': {'test': {}, 'race': {}}, 'img_111': {'test': {}, 'race': {}}, 'img_677': {'test': {}, 'race': {}}, 'img_663': {'test': {}, 'race': {}}, 'img_105': {'test': {}, 'race': {}}, 'img_893': {'test': {}, 'race': {}}, 'img_887': {'test': {}, 'race': {}}, 'img_139': {'test': {}, 'race': {}}, 'img_16': {'test': {}, 'race': {}}, 'img_475': {'test': {}, 'race': {}}, 'img_313': {'test': {}, 'race': {}}, 'img_307': {'test': {}, 'race': {}}, 'img_461': {'test': {}, 'race': {}}, 'img_449': {'test': {}, 'race': {}}, 'img_298': {'test': {}, 'race': {}}, 'img_501': {'test': {}, 'race': {}}, 'img_267': {'test': {}, 'race': {}}, 'img_7': {'test': {}, 'race': {}}, 'img_273': {'test': {}, 'race': {}}, 'img_515': {'test': {}, 'race': {}}, 'img_529': {'test': {}, 'race': {}}, 'img_918': {'test': {}, 'race': {}}, 'img_924': {'test': {}, 'race': {}}, 'img_930': {'test': {}, 'race': {}}, 'img_703': {'test': {}, 'race': {}}, 'img_717': {'test': {}, 'race': {}}, 'img_716': {'test': {}, 'race': {}}, 'img_702': {'test': {}, 'race': {}}, 'img_931': {'test': {}, 'race': {}}, 'img_925': {'test': {}, 'race': {}}, 'img_919': {'test': {}, 'race': {}}, 'img_528': {'test': {}, 'race': {}}, 'img_272': {'test': {}, 'race': {}}, 'img_514': {'test': {}, 'race': {}}, 'img_500': {'test': {}, 'race': {}}, 'img_6': {'test': {}, 'race': {}}, 'img_266': {'test': {}, 'race': {}}, 'img_299': {'test': {}, 'race': {}}, 'img_448': {'test': {}, 'race': {}}, 'img_306': {'test': {}, 'race': {}}, 'img_460': {'test': {}, 'race': {}}, 'img_474': {'test': {}, 'race': {}}, 'img_312': {'test': {}, 'race': {}}, 'img_17': {'test': {}, 'race': {}}, 'img_886': {'test': {}, 'race': {}}, 'img_138': {'test': {}, 'race': {}}, 'img_892': {'test': {}, 'race': {}}, 'img_662': {'test': {}, 'race': {}}, 'img_104': {'test': {}, 'race': {}}, 'img_110': {'test': {}, 'race': {}}, 'img_676': {'test': {}, 'race': {}}, 'img_845': {'test': {}, 'race': {}}, 'img_851': {'test': {}, 'race': {}}, 'img_689': {'test': {}, 'race': {}}, 'img_879': {'test': {}, 'race': {}}, 'img_847': {'test': {}, 'race': {}}, 'img_853': {'test': {}, 'race': {}}, 'img_106': {'test': {}, 'race': {}}, 'img_660': {'test': {}, 'race': {}}, 'img_674': {'test': {}, 'race': {}}, 'img_112': {'test': {}, 'race': {}}, 'img_884': {'test': {}, 'race': {}}, 'img_890': {'test': {}, 'race': {}}, 'img_648': {'test': {}, 'race': {}}, 'img_29': {'test': {}, 'race': {}}, 'img_15': {'test': {}, 'race': {}}, 'img_489': {'test': {}, 'race': {}}, 'img_462': {'test': {}, 'race': {}}, 'img_304': {'test': {}, 'race': {}}, 'img_310': {'test': {}, 'race': {}}, 'img_476': {'test': {}, 'race': {}}, 'img_338': {'test': {}, 'race': {}}, 'img_516': {'test': {}, 'race': {}}, 'img_270': {'test': {}, 'race': {}}, 'img_264': {'test': {}, 'race': {}}, 'img_4': {'test': {}, 'race': {}}, 'img_502': {'test': {}, 'race': {}}, 'img_258': {'test': {}, 'race': {}}, 'img_933': {'test': {}, 'race': {}}, 'img_927': {'test': {}, 'race': {}}, 'img_714': {'test': {}, 'race': {}}, 'img_700': {'test': {}, 'race': {}}, 'img_728': {'test': {}, 'race': {}}, 'img_729': {'test': {}, 'race': {}}, 'img_701': {'test': {}, 'race': {}}, 'img_715': {'test': {}, 'race': {}}, 'img_926': {'test': {}, 'race': {}}, 'img_932': {'test': {}, 'race': {}}, 'img_259': {'test': {}, 'race': {}}, 'img_5': {'test': {}, 'race': {}}, 'img_265': {'test': {}, 'race': {}}, 'img_503': {'test': {}, 'race': {}}, 'img_517': {'test': {}, 'race': {}}, 'img_271': {'test': {}, 'race': {}}, 'img_339': {'test': {}, 'race': {}}, 'img_311': {'test': {}, 'race': {}}, 'img_477': {'test': {}, 'race': {}}, 'img_463': {'test': {}, 'race': {}}, 'img_305': {'test': {}, 'race': {}}, 'img_488': {'test': {}, 'race': {}}, 'img_14': {'test': {}, 'race': {}}, 'img_28': {'test': {}, 'race': {}}, 'img_649': {'test': {}, 'race': {}}, 'img_891': {'test': {}, 'race': {}}, 'img_885': {'test': {}, 'race': {}}, 'img_675': {'test': {}, 'race': {}}, 'img_113': {'test': {}, 'race': {}}, 'img_107': {'test': {}, 'race': {}}, 'img_661': {'test': {}, 'race': {}}, 'img_852': {'test': {}, 'race': {}}, 'img_846': {'test': {}, 'race': {}}, 'img_821': {'test': {}, 'race': {}}, 'img_835': {'test': {}, 'race': {}}, 'img_809': {'test': {}, 'race': {}}, 'img_148': {'test': {}, 'race': {}}, 'img_160': {'test': {}, 'race': {}}, 'img_606': {'test': {}, 'race': {}}, 'img_612': {'test': {}, 'race': {}}, 'img_174': {'test': {}, 'race': {}}, 'img_67': {'test': {}, 'race': {}}, 'img_389': {'test': {}, 'race': {}}, 'img_73': {'test': {}, 'race': {}}, 'img_438': {'test': {}, 'race': {}}, 'img_404': {'test': {}, 'race': {}}, 'img_98': {'test': {}, 'race': {}}, 'img_362': {'test': {}, 'race': {}}, 'img_376': {'test': {}, 'race': {}}, 'img_410': {'test': {}, 'race': {}}, 'img_558': {'test': {}, 'race': {}}, 'img_570': {'test': {}, 'race': {}}, 'img_216': {'test': {}, 'race': {}}, 'img_202': {'test': {}, 'race': {}}, 'img_564': {'test': {}, 'race': {}}, 'img_955': {'test': {}, 'race': {}}, 'img_941': {'test': {}, 'race': {}}, 'img_799': {'test': {}, 'race': {}}, 'img_969': {'test': {}, 'race': {}}, 'img_996': {'test': {}, 'race': {}}, 'img_982': {'test': {}, 'race': {}}, 'img_772': {'test': {}, 'race': {}}, 'img_766': {'test': {}, 'race': {}}, 'img_767': {'test': {}, 'race': {}}, 'img_773': {'test': {}, 'race': {}}, 'img_983': {'test': {}, 'race': {}}, 'img_997': {'test': {}, 'race': {}}, 'img_968': {'test': {}, 'race': {}}, 'img_798': {'test': {}, 'race': {}}, 'img_940': {'test': {}, 'race': {}}, 'img_954': {'test': {}, 'race': {}}, 'img_203': {'test': {}, 'race': {}}, 'img_565': {'test': {}, 'race': {}}, 'img_571': {'test': {}, 'race': {}}, 'img_217': {'test': {}, 'race': {}}, 'img_559': {'test': {}, 'race': {}}, 'img_377': {'test': {}, 'race': {}}, 'img_411': {'test': {}, 'race': {}}, 'img_99': {'test': {}, 'race': {}}, 'img_405': {'test': {}, 'race': {}}, 'img_363': {'test': {}, 'race': {}}, 'img_439': {'test': {}, 'race': {}}, 'img_388': {'test': {}, 'race': {}}, 'img_72': {'test': {}, 'race': {}}, 'img_66': {'test': {}, 'race': {}}, 'img_613': {'test': {}, 'race': {}}, 'img_175': {'test': {}, 'race': {}}, 'img_161': {'test': {}, 'race': {}}, 'img_607': {'test': {}, 'race': {}}, 'img_149': {'test': {}, 'race': {}}, 'img_808': {'test': {}, 'race': {}}, 'img_834': {'test': {}, 'race': {}}, 'img_820': {'test': {}, 'race': {}}, 'img_188': {'test': {}, 'race': {}}, 'img_836': {'test': {}, 'race': {}}, 'img_822': {'test': {}, 'race': {}}, 'img_639': {'test': {}, 'race': {}}, 'img_177': {'test': {}, 'race': {}}, 'img_611': {'test': {}, 'race': {}}, 'img_605': {'test': {}, 'race': {}}, 'img_163': {'test': {}, 'race': {}}, 'img_70': {'test': {}, 'race': {}}, 'img_64': {'test': {}, 'race': {}}, 'img_58': {'test': {}, 'race': {}}, 'img_349': {'test': {}, 'race': {}}, 'img_413': {'test': {}, 'race': {}}, 'img_375': {'test': {}, 'race': {}}, 'img_361': {'test': {}, 'race': {}}, 'img_407': {'test': {}, 'race': {}}, 'img_598': {'test': {}, 'race': {}}, 'img_229': {'test': {}, 'race': {}}, 'img_567': {'test': {}, 'race': {}}, 'img_201': {'test': {}, 'race': {}}, 'img_215': {'test': {}, 'race': {}}, 'img_573': {'test': {}, 'race': {}}, 'img_942': {'test': {}, 'race': {}}, 'img_956': {'test': {}, 'race': {}}, 'img_759': {'test': {}, 'race': {}}, 'img_981': {'test': {}, 'race': {}}, 'img_995': {'test': {}, 'race': {}}, 'img_765': {'test': {}, 'race': {}}, 'img_771': {'test': {}, 'race': {}}, 'img_770': {'test': {}, 'race': {}}, 'img_764': {'test': {}, 'race': {}}, 'img_994': {'test': {}, 'race': {}}, 'img_980': {'test': {}, 'race': {}}, 'img_758': {'test': {}, 'race': {}}, 'img_957': {'test': {}, 'race': {}}, 'img_943': {'test': {}, 'race': {}}, 'img_214': {'test': {}, 'race': {}}, 'img_572': {'test': {}, 'race': {}}, 'img_566': {'test': {}, 'race': {}}, 'img_200': {'test': {}, 'race': {}}, 'img_228': {'test': {}, 'race': {}}, 'img_599': {'test': {}, 'race': {}}, 'img_360': {'test': {}, 'race': {}}, 'img_406': {'test': {}, 'race': {}}, 'img_412': {'test': {}, 'race': {}}, 'img_374': {'test': {}, 'race': {}}, 'img_348': {'test': {}, 'race': {}}, 'img_59': {'test': {}, 'race': {}}, 'img_65': {'test': {}, 'race': {}}, 'img_71': {'test': {}, 'race': {}}, 'img_604': {'test': {}, 'race': {}}, 'img_162': {'test': {}, 'race': {}}, 'img_176': {'test': {}, 'race': {}}, 'img_610': {'test': {}, 'race': {}}, 'img_638': {'test': {}, 'race': {}}, 'img_823': {'test': {}, 'race': {}}, 'img_189': {'test': {}, 'race': {}}, 'img_837': {'test': {}, 'race': {}}, 'img_833': {'test': {}, 'race': {}}, 'img_199': {'test': {}, 'race': {}}, 'img_827': {'test': {}, 'race': {}}, 'img_614': {'test': {}, 'race': {}}, 'img_172': {'test': {}, 'race': {}}, 'img_166': {'test': {}, 'race': {}}, 'img_600': {'test': {}, 'race': {}}, 'img_628': {'test': {}, 'race': {}}, 'img_49': {'test': {}, 'race': {}}, 'img_75': {'test': {}, 'race': {}}, 'img_61': {'test': {}, 'race': {}}, 'img_370': {'test': {}, 'race': {}}}\n"
     ]
    }
   ],
   "source": [
    "print(image_labels)"
   ]
  },
  {
   "cell_type": "code",
   "execution_count": 40,
   "metadata": {},
   "outputs": [],
   "source": [
    "import json\n",
    "\n",
    "with open('data.json', 'w') as fp:\n",
    "    json.dump(image_labels, fp)"
   ]
  },
  {
   "cell_type": "code",
   "execution_count": 44,
   "metadata": {},
   "outputs": [],
   "source": [
    "for key in image_labels:\n",
    "    image_labels[key][\"race\"] = image_labels[key][\"test\"]\n",
    "    image_labels[key][\"test\"] = {}"
   ]
  },
  {
   "cell_type": "code",
   "execution_count": null,
   "metadata": {},
   "outputs": [],
   "source": []
  }
 ],
 "metadata": {
  "kernelspec": {
   "display_name": "Python 3",
   "language": "python",
   "name": "python3"
  },
  "language_info": {
   "codemirror_mode": {
    "name": "ipython",
    "version": 3
   },
   "file_extension": ".py",
   "mimetype": "text/x-python",
   "name": "python",
   "nbconvert_exporter": "python",
   "pygments_lexer": "ipython3",
   "version": "3.7.7"
  }
 },
 "nbformat": 4,
 "nbformat_minor": 4
}
